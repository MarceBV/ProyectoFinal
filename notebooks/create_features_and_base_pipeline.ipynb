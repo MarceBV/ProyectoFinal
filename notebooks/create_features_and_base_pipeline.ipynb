{
 "cells": [],
 "metadata": {
  "kernelspec": {
   "display_name": "venv-churning-model",
   "language": "python",
   "name": "python3"
  },
  "language_info": {
   "name": "python",
   "version": "3.11.10"
  }
 },
 "nbformat": 4,
 "nbformat_minor": 2
}
